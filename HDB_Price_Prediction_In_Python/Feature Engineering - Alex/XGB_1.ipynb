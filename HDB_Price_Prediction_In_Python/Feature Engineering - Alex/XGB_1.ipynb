{
 "cells": [
  {
   "cell_type": "code",
   "execution_count": 1,
   "id": "d36408f7-60ce-4f6d-bc02-afe00906009a",
   "metadata": {
    "tags": []
   },
   "outputs": [
    {
     "name": "stdout",
     "output_type": "stream",
     "text": [
      "Requirement already satisfied: xgboost in c:\\users\\ranoc\\anaconda3\\lib\\site-packages (2.1.2)\n",
      "Requirement already satisfied: numpy in c:\\users\\ranoc\\anaconda3\\lib\\site-packages (from xgboost) (1.26.4)\n",
      "Requirement already satisfied: scipy in c:\\users\\ranoc\\anaconda3\\lib\\site-packages (from xgboost) (1.13.1)\n"
     ]
    }
   ],
   "source": [
    "!pip install xgboost"
   ]
  },
  {
   "cell_type": "code",
   "execution_count": 2,
   "id": "52179643-4579-484c-9841-edce91d291fa",
   "metadata": {},
   "outputs": [],
   "source": [
    "import pandas as pd\n",
    "import numpy as np\n",
    "from sklearn.model_selection import KFold\n",
    "from sklearn.model_selection import GridSearchCV\n",
    "from xgboost import XGBRegressor\n",
    "from sklearn.model_selection import GridSearchCV"
   ]
  },
  {
   "cell_type": "code",
   "execution_count": 3,
   "id": "9f720411-d77e-43a5-9d6e-638db7ffd0c2",
   "metadata": {},
   "outputs": [],
   "source": [
    "df = pd.read_csv(\"Data_Eng_v7.csv\", low_memory=False)"
   ]
  },
  {
   "cell_type": "code",
   "execution_count": 4,
   "id": "41f404e3-4bf0-45e4-8165-fc0e1127cb8a",
   "metadata": {},
   "outputs": [],
   "source": [
    "df = df.dropna()\n",
    "df = df.drop_duplicates()"
   ]
  },
  {
   "cell_type": "code",
   "execution_count": 5,
   "id": "3979104d-53e8-4310-9cb8-739c0737a7c7",
   "metadata": {},
   "outputs": [
    {
     "data": {
      "text/html": [
       "<div>\n",
       "<style scoped>\n",
       "    .dataframe tbody tr th:only-of-type {\n",
       "        vertical-align: middle;\n",
       "    }\n",
       "\n",
       "    .dataframe tbody tr th {\n",
       "        vertical-align: top;\n",
       "    }\n",
       "\n",
       "    .dataframe thead th {\n",
       "        text-align: right;\n",
       "    }\n",
       "</style>\n",
       "<table border=\"1\" class=\"dataframe\">\n",
       "  <thead>\n",
       "    <tr style=\"text-align: right;\">\n",
       "      <th></th>\n",
       "      <th>Unnamed: 0.1</th>\n",
       "      <th>month</th>\n",
       "      <th>town</th>\n",
       "      <th>flat_type</th>\n",
       "      <th>block</th>\n",
       "      <th>street_name</th>\n",
       "      <th>storey_range</th>\n",
       "      <th>floor_area_sqm</th>\n",
       "      <th>flat_model</th>\n",
       "      <th>lease_commence_date</th>\n",
       "      <th>...</th>\n",
       "      <th>Unnamed: 0</th>\n",
       "      <th>price_per_sqm</th>\n",
       "      <th>Closest_supermarket_Distance</th>\n",
       "      <th>Closest_supermarket_postal</th>\n",
       "      <th>Closest_industrial_Distance</th>\n",
       "      <th>Closest_industrial_name</th>\n",
       "      <th>School_Density_Within_1KM</th>\n",
       "      <th>Special_School_Density_Within_1KM</th>\n",
       "      <th>Closest_rental_Distance</th>\n",
       "      <th>Closest_Mall_Distance</th>\n",
       "    </tr>\n",
       "  </thead>\n",
       "  <tbody>\n",
       "    <tr>\n",
       "      <th>192061</th>\n",
       "      <td>192061</td>\n",
       "      <td>2024-10</td>\n",
       "      <td>YISHUN</td>\n",
       "      <td>5 ROOM</td>\n",
       "      <td>870</td>\n",
       "      <td>YISHUN ST 81</td>\n",
       "      <td>04 TO 06</td>\n",
       "      <td>122.0</td>\n",
       "      <td>Improved</td>\n",
       "      <td>1987</td>\n",
       "      <td>...</td>\n",
       "      <td>417</td>\n",
       "      <td>6453.0</td>\n",
       "      <td>0.311652</td>\n",
       "      <td>760507</td>\n",
       "      <td>2.935779</td>\n",
       "      <td>Seletar Aerospace Park</td>\n",
       "      <td>3</td>\n",
       "      <td>0</td>\n",
       "      <td>0.365474</td>\n",
       "      <td>0.660889</td>\n",
       "    </tr>\n",
       "    <tr>\n",
       "      <th>192062</th>\n",
       "      <td>192062</td>\n",
       "      <td>2024-10</td>\n",
       "      <td>YISHUN</td>\n",
       "      <td>EXECUTIVE</td>\n",
       "      <td>654</td>\n",
       "      <td>YISHUN AVE 4</td>\n",
       "      <td>10 TO 12</td>\n",
       "      <td>164.0</td>\n",
       "      <td>Apartment</td>\n",
       "      <td>1992</td>\n",
       "      <td>...</td>\n",
       "      <td>417</td>\n",
       "      <td>6453.0</td>\n",
       "      <td>0.475721</td>\n",
       "      <td>760675</td>\n",
       "      <td>2.000149</td>\n",
       "      <td>Yishun Industrial Park A</td>\n",
       "      <td>3</td>\n",
       "      <td>0</td>\n",
       "      <td>0.532268</td>\n",
       "      <td>0.572021</td>\n",
       "    </tr>\n",
       "    <tr>\n",
       "      <th>192063</th>\n",
       "      <td>192063</td>\n",
       "      <td>2024-10</td>\n",
       "      <td>YISHUN</td>\n",
       "      <td>EXECUTIVE</td>\n",
       "      <td>654</td>\n",
       "      <td>YISHUN AVE 4</td>\n",
       "      <td>04 TO 06</td>\n",
       "      <td>164.0</td>\n",
       "      <td>Apartment</td>\n",
       "      <td>1992</td>\n",
       "      <td>...</td>\n",
       "      <td>417</td>\n",
       "      <td>6453.0</td>\n",
       "      <td>0.475721</td>\n",
       "      <td>760675</td>\n",
       "      <td>2.000149</td>\n",
       "      <td>Yishun Industrial Park A</td>\n",
       "      <td>3</td>\n",
       "      <td>0</td>\n",
       "      <td>0.532268</td>\n",
       "      <td>0.572021</td>\n",
       "    </tr>\n",
       "    <tr>\n",
       "      <th>192064</th>\n",
       "      <td>192064</td>\n",
       "      <td>2024-10</td>\n",
       "      <td>YISHUN</td>\n",
       "      <td>EXECUTIVE</td>\n",
       "      <td>358</td>\n",
       "      <td>YISHUN RING RD</td>\n",
       "      <td>01 TO 03</td>\n",
       "      <td>145.0</td>\n",
       "      <td>Maisonette</td>\n",
       "      <td>1988</td>\n",
       "      <td>...</td>\n",
       "      <td>417</td>\n",
       "      <td>6453.0</td>\n",
       "      <td>0.259860</td>\n",
       "      <td>760418</td>\n",
       "      <td>1.690048</td>\n",
       "      <td>Admiralty East Industrial Estate</td>\n",
       "      <td>3</td>\n",
       "      <td>0</td>\n",
       "      <td>0.523747</td>\n",
       "      <td>0.845712</td>\n",
       "    </tr>\n",
       "    <tr>\n",
       "      <th>192065</th>\n",
       "      <td>192065</td>\n",
       "      <td>2024-10</td>\n",
       "      <td>YISHUN</td>\n",
       "      <td>EXECUTIVE</td>\n",
       "      <td>824</td>\n",
       "      <td>YISHUN ST 81</td>\n",
       "      <td>10 TO 12</td>\n",
       "      <td>142.0</td>\n",
       "      <td>Apartment</td>\n",
       "      <td>1987</td>\n",
       "      <td>...</td>\n",
       "      <td>417</td>\n",
       "      <td>6453.0</td>\n",
       "      <td>0.315496</td>\n",
       "      <td>760845</td>\n",
       "      <td>3.084699</td>\n",
       "      <td>Yishun Industrial Park A</td>\n",
       "      <td>2</td>\n",
       "      <td>0</td>\n",
       "      <td>0.841459</td>\n",
       "      <td>1.008147</td>\n",
       "    </tr>\n",
       "  </tbody>\n",
       "</table>\n",
       "<p>5 rows × 38 columns</p>\n",
       "</div>"
      ],
      "text/plain": [
       "        Unnamed: 0.1    month    town  flat_type block     street_name  \\\n",
       "192061        192061  2024-10  YISHUN     5 ROOM   870    YISHUN ST 81   \n",
       "192062        192062  2024-10  YISHUN  EXECUTIVE   654    YISHUN AVE 4   \n",
       "192063        192063  2024-10  YISHUN  EXECUTIVE   654    YISHUN AVE 4   \n",
       "192064        192064  2024-10  YISHUN  EXECUTIVE   358  YISHUN RING RD   \n",
       "192065        192065  2024-10  YISHUN  EXECUTIVE   824    YISHUN ST 81   \n",
       "\n",
       "       storey_range  floor_area_sqm  flat_model  lease_commence_date  ...  \\\n",
       "192061     04 TO 06           122.0    Improved                 1987  ...   \n",
       "192062     10 TO 12           164.0   Apartment                 1992  ...   \n",
       "192063     04 TO 06           164.0   Apartment                 1992  ...   \n",
       "192064     01 TO 03           145.0  Maisonette                 1988  ...   \n",
       "192065     10 TO 12           142.0   Apartment                 1987  ...   \n",
       "\n",
       "       Unnamed: 0  price_per_sqm Closest_supermarket_Distance  \\\n",
       "192061        417         6453.0                     0.311652   \n",
       "192062        417         6453.0                     0.475721   \n",
       "192063        417         6453.0                     0.475721   \n",
       "192064        417         6453.0                     0.259860   \n",
       "192065        417         6453.0                     0.315496   \n",
       "\n",
       "       Closest_supermarket_postal Closest_industrial_Distance  \\\n",
       "192061                     760507                    2.935779   \n",
       "192062                     760675                    2.000149   \n",
       "192063                     760675                    2.000149   \n",
       "192064                     760418                    1.690048   \n",
       "192065                     760845                    3.084699   \n",
       "\n",
       "                 Closest_industrial_name School_Density_Within_1KM  \\\n",
       "192061            Seletar Aerospace Park                         3   \n",
       "192062          Yishun Industrial Park A                         3   \n",
       "192063          Yishun Industrial Park A                         3   \n",
       "192064  Admiralty East Industrial Estate                         3   \n",
       "192065          Yishun Industrial Park A                         2   \n",
       "\n",
       "       Special_School_Density_Within_1KM  Closest_rental_Distance  \\\n",
       "192061                                 0                 0.365474   \n",
       "192062                                 0                 0.532268   \n",
       "192063                                 0                 0.532268   \n",
       "192064                                 0                 0.523747   \n",
       "192065                                 0                 0.841459   \n",
       "\n",
       "        Closest_Mall_Distance  \n",
       "192061               0.660889  \n",
       "192062               0.572021  \n",
       "192063               0.572021  \n",
       "192064               0.845712  \n",
       "192065               1.008147  \n",
       "\n",
       "[5 rows x 38 columns]"
      ]
     },
     "execution_count": 5,
     "metadata": {},
     "output_type": "execute_result"
    }
   ],
   "source": [
    "df.tail()"
   ]
  },
  {
   "cell_type": "code",
   "execution_count": 6,
   "id": "3db6b4e0-00a5-4ea9-a0ee-9b7cfc7a6093",
   "metadata": {
    "tags": []
   },
   "outputs": [],
   "source": [
    "# Convert 'month' to datetime and extract the year\n",
    "df['month'] = pd.to_datetime(df['month'], format='%Y-%m')\n",
    "df['month_year'] = df['month'].dt.year\n",
    "\n",
    "# df = df[(df['month'] < \"2021-01\")]"
   ]
  },
  {
   "cell_type": "code",
   "execution_count": 7,
   "id": "5a0ec4eb-b3ce-4f46-b543-ba26a2297adf",
   "metadata": {
    "tags": []
   },
   "outputs": [
    {
     "data": {
      "text/plain": [
       "Index(['Unnamed: 0.1', 'month', 'town', 'flat_type', 'block', 'street_name',\n",
       "       'storey_range', 'floor_area_sqm', 'flat_model', 'lease_commence_date',\n",
       "       'remaining_lease', 'resale_price', 'residential', 'commercial',\n",
       "       'market_hawker', 'miscellaneous', 'multistorey_carpark',\n",
       "       'precinct_pavilion', 'LATITUDE', 'LONGITUDE', 'POSTAL', 'time_cbd',\n",
       "       'Distance_CBD', 'Closest_mrt_Distance', 'Closest_mrt_Station',\n",
       "       'busstop_Density_Within_1KM', 'Closest_hawkercentre_Distance',\n",
       "       'Closest_Hawker', 'Unnamed: 0', 'price_per_sqm',\n",
       "       'Closest_supermarket_Distance', 'Closest_supermarket_postal',\n",
       "       'Closest_industrial_Distance', 'Closest_industrial_name',\n",
       "       'School_Density_Within_1KM', 'Special_School_Density_Within_1KM',\n",
       "       'Closest_rental_Distance', 'Closest_Mall_Distance', 'month_year'],\n",
       "      dtype='object')"
      ]
     },
     "execution_count": 7,
     "metadata": {},
     "output_type": "execute_result"
    }
   ],
   "source": [
    "df.columns"
   ]
  },
  {
   "cell_type": "code",
   "execution_count": 8,
   "id": "501ac0ab-0671-4d9f-9f17-8229d7103efd",
   "metadata": {
    "tags": []
   },
   "outputs": [
    {
     "name": "stdout",
     "output_type": "stream",
     "text": [
      "['10 TO 12' '01 TO 03' '04 TO 06' '07 TO 09' '13 TO 15' '19 TO 21'\n",
      " '22 TO 24' '16 TO 18' '34 TO 36' '28 TO 30' '37 TO 39' '49 TO 51'\n",
      " '25 TO 27' '40 TO 42' '31 TO 33' '46 TO 48' '43 TO 45']\n",
      "['01 TO 03', '04 TO 06', '07 TO 09', '10 TO 12', '13 TO 15', '19 TO 21', '16 TO 18', '22 TO 24', '28 TO 30', '25 TO 27', '34 TO 36', '37 TO 39', '31 TO 33', '49 TO 51', '40 TO 42', '46 TO 48', '43 TO 45']\n",
      "{'01 TO 03': 0, '04 TO 06': 1, '07 TO 09': 2, '10 TO 12': 3, '13 TO 15': 4, '19 TO 21': 5, '16 TO 18': 6, '22 TO 24': 7, '28 TO 30': 8, '25 TO 27': 9, '34 TO 36': 10, '37 TO 39': 11, '31 TO 33': 12, '49 TO 51': 13, '40 TO 42': 14, '46 TO 48': 15, '43 TO 45': 16}\n"
     ]
    }
   ],
   "source": [
    "print(df['storey_range'].unique())\n",
    "storey_list = sorted(df['storey_range'].unique(), key = lambda x: x[0:1])\n",
    "print(storey_list)\n",
    "\n",
    "storey_dict = {}\n",
    "for i in range(len(storey_list)):\n",
    "    storey_dict[storey_list[i]] = i\n",
    "\n",
    "print(storey_dict)\n",
    "\n",
    "df['storey_range'] = df['storey_range'].apply(lambda x: storey_dict.get(x))"
   ]
  },
  {
   "cell_type": "code",
   "execution_count": 9,
   "id": "742b5ec8-a2ad-4d18-a924-e2248d71017e",
   "metadata": {
    "tags": []
   },
   "outputs": [
    {
     "data": {
      "text/plain": [
       "0         3\n",
       "1         0\n",
       "2         0\n",
       "3         1\n",
       "4         0\n",
       "         ..\n",
       "192061    1\n",
       "192062    3\n",
       "192063    1\n",
       "192064    0\n",
       "192065    3\n",
       "Name: storey_range, Length: 192066, dtype: int64"
      ]
     },
     "execution_count": 9,
     "metadata": {},
     "output_type": "execute_result"
    }
   ],
   "source": [
    "df.head()\n",
    "df[\"storey_range\"]"
   ]
  },
  {
   "cell_type": "code",
   "execution_count": 10,
   "id": "2d54f189-25e0-4a2c-a6b8-7c1fd361ec55",
   "metadata": {},
   "outputs": [],
   "source": [
    "df = df.drop(columns = [\"Unnamed: 0.1\", \"Unnamed: 0\", \"LATITUDE\", \"LONGITUDE\", \"street_name\", \"block\", \"Closest_Hawker\", \"POSTAL\",\"residential\", \"remaining_lease\", \"Closest_supermarket_postal\", 'Closest_industrial_name', 'time_cbd','commercial','multistorey_carpark'])"
   ]
  },
  {
   "cell_type": "code",
   "execution_count": 11,
   "id": "6ed26d84-95e5-4f6b-bc98-7e91a9329852",
   "metadata": {},
   "outputs": [],
   "source": [
    "df = pd.get_dummies(df)\n"
   ]
  },
  {
   "cell_type": "code",
   "execution_count": 12,
   "id": "675ed03a-616b-4ecb-86bb-8c9f92b87e33",
   "metadata": {},
   "outputs": [],
   "source": [
    "df['property_age'] = df['month_year'] - df['lease_commence_date']\n",
    "df = df[(df[\"month\"] < \"2024-09\")]"
   ]
  },
  {
   "cell_type": "code",
   "execution_count": 13,
   "id": "8b03c8fb-c829-49e3-918e-fb157ed00f1b",
   "metadata": {},
   "outputs": [],
   "source": [
    "df = df.drop(columns = [\"month_year\", \"month\", \"lease_commence_date\"])"
   ]
  },
  {
   "cell_type": "code",
   "execution_count": 14,
   "id": "d84195af-e865-475c-a04e-433aad16cfa4",
   "metadata": {},
   "outputs": [],
   "source": [
    "# Using Skicit-learn to split data into training and testing sets\n",
    "from sklearn.model_selection import train_test_split\n",
    "# Split the data into training and testing sets\n",
    "X = df.drop('resale_price', axis=1)\n",
    "y = df[\"resale_price\"]\n",
    "\n",
    "train_features, test_features, train_labels, test_labels = train_test_split(X, y, test_size=0.2, random_state=42)\n",
    "\n",
    "df = df.drop(\"resale_price\", axis = 1)\n",
    "feature_list = list(df.columns)\n",
    "# Convert to numpy array\n",
    "features = np.array(df)\n",
    "\n"
   ]
  },
  {
   "cell_type": "code",
   "execution_count": 15,
   "id": "62f4af6f-8cf4-423c-912f-e2f50c06c646",
   "metadata": {},
   "outputs": [
    {
     "name": "stdout",
     "output_type": "stream",
     "text": [
      "Fitting 5 folds for each of 324 candidates, totalling 1620 fits\n",
      "Best set of hyperparameters:  {'colsample_bytree': 0.7, 'learning_rate': 0.1, 'max_depth': 10, 'n_estimators': 200, 'subsample': 0.8}\n",
      "Best score:  26410.651977702524\n"
     ]
    }
   ],
   "source": [
    "# Import the model we are using\n",
    "from math import sqrt\n",
    "xgb = XGBRegressor(n_estimators = 100, random_state = 1)\n",
    "param_grid = {\n",
    "    'learning_rate': [0.01, 0.05, 0.1, 0.2],  # Different learning rates\n",
    "    'max_depth': [3, 6, 10],                  # Depth of trees\n",
    "    'n_estimators': [50, 100, 200],           # Number of boosting rounds\n",
    "    'subsample': [0.7, 0.8, 1.0],             # Fraction of samples used for training\n",
    "    'colsample_bytree': [0.7, 0.8, 1.0]       # Fraction of features used for training\n",
    "}\n",
    "\n",
    "grid_search = GridSearchCV(xgb, param_grid, cv=5, scoring='neg_mean_squared_error', verbose=1, n_jobs=-1)\n",
    "grid_search.fit(train_features, train_labels)\n",
    "print(\"Best set of hyperparameters: \", grid_search.best_params_)\n",
    "print(\"Best score: \", sqrt(-grid_search.best_score_))"
   ]
  },
  {
   "cell_type": "code",
   "execution_count": 16,
   "id": "67a7ef59-135d-4cb5-858f-ce02dd7a5e42",
   "metadata": {},
   "outputs": [],
   "source": [
    "from sklearn.metrics import mean_squared_error\n",
    "best_model = grid_search.best_estimator_\n",
    "y_pred = best_model.predict(test_features)\n",
    "mse_test = mean_squared_error(test_labels, y_pred)"
   ]
  },
  {
   "cell_type": "code",
   "execution_count": 17,
   "id": "b210166f-04a8-4f5f-900b-25d735148f91",
   "metadata": {
    "tags": []
   },
   "outputs": [
    {
     "name": "stderr",
     "output_type": "stream",
     "text": [
      "C:\\Users\\ranoc\\anaconda3\\Lib\\site-packages\\sklearn\\metrics\\_regression.py:483: FutureWarning: 'squared' is deprecated in version 1.4 and will be removed in 1.6. To calculate the root mean squared error, use the function'root_mean_squared_error'.\n",
      "  warnings.warn(\n"
     ]
    }
   ],
   "source": [
    "from sklearn.metrics import mean_squared_error\n",
    "y_pred = best_model.predict(test_features)\n",
    "rms = mean_squared_error(test_labels, y_pred, squared=False)\n",
    "\n",
    "from sklearn.metrics import r2_score\n",
    "r2 = r2_score(test_labels, y_pred)"
   ]
  },
  {
   "cell_type": "code",
   "execution_count": 18,
   "id": "a45b7495-904c-43e3-abe1-3c56a1e724bc",
   "metadata": {
    "tags": []
   },
   "outputs": [
    {
     "name": "stdout",
     "output_type": "stream",
     "text": [
      "25914.390337996956\n"
     ]
    }
   ],
   "source": [
    "from math import sqrt\n",
    "print(rms)"
   ]
  },
  {
   "cell_type": "code",
   "execution_count": 19,
   "id": "a58d59ea-fc3b-4030-b9cc-aa4782f881d5",
   "metadata": {
    "tags": []
   },
   "outputs": [
    {
     "name": "stdout",
     "output_type": "stream",
     "text": [
      "0.9783237530633263\n"
     ]
    }
   ],
   "source": [
    "print(r2)"
   ]
  }
 ],
 "metadata": {
  "kernelspec": {
   "display_name": "Python 3 (ipykernel)",
   "language": "python",
   "name": "python3"
  },
  "language_info": {
   "codemirror_mode": {
    "name": "ipython",
    "version": 3
   },
   "file_extension": ".py",
   "mimetype": "text/x-python",
   "name": "python",
   "nbconvert_exporter": "python",
   "pygments_lexer": "ipython3",
   "version": "3.12.4"
  }
 },
 "nbformat": 4,
 "nbformat_minor": 5
}
